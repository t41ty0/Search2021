{
 "cells": [
  {
   "cell_type": "code",
   "execution_count": 149,
   "metadata": {},
   "outputs": [],
   "source": [
    "import pymysql.cursors\n",
    "import datetime\n",
    "\n",
    "connection = pymysql.connect(host='localhost',\n",
    "                             user='tatelab1',\n",
    "                             password='tatelab1',\n",
    "                             db='names',\n",
    "                             charset='utf8',\n",
    "                             # 結果の受け取り方の指定。Dict形式で結果を受け取ることができる\n",
    "                             cursorclass=pymysql.cursors.Cursor)"
   ]
  },
  {
   "cell_type": "code",
   "execution_count": 150,
   "metadata": {},
   "outputs": [],
   "source": [
    "import cv2\n",
    "import matplotlib.pyplot as plt\n",
    "import numpy as np\n",
    "import colour\n",
    "import PIL.ImageDraw\n",
    "import sys\n",
    "import itertools\n",
    "import os\n",
    "import glob\n",
    "import time\n",
    "import datetime\n",
    "\n",
    "def heikin_img(path):\n",
    "\n",
    "    source_file = path\n",
    "    source = PIL.Image.open(source_file)\n",
    "\n",
    "    color_arr = np.array(source)\n",
    "    w_size, h_size, n_color = color_arr.shape\n",
    "    color_arr = color_arr.reshape(w_size * h_size, n_color)\n",
    "\n",
    "    color_mean = np.mean(color_arr, axis=0)\n",
    "    color_mean = color_mean.astype(int)\n",
    "    color_mean = tuple(color_mean)\n",
    "\n",
    "    im = PIL.Image.new('RGB', (1, 1), color_mean)\n",
    "    im.save('YYY.png')\n",
    "    a = cv2.imread('YYY.png')\n",
    "    return a\n",
    "    \n",
    "def heikin_hikaku(a,b):\n",
    "    imgA = cv2.cvtColor(a, cv2.COLOR_BGR2Lab)\n",
    "    imgB = cv2.cvtColor(b, cv2.COLOR_BGR2Lab)\n",
    "    sys.getsizeof(imgA)\n",
    "    return colour.delta_E(imgA, imgB)\n",
    "    \n",
    "def saido_img(path):\n",
    "    img = cv2.imread(path)\n",
    "    img2 = cv2.cvtColor(img, cv2.COLOR_BGR2HSV)\n",
    "    #img2 = cv2.resize(img2,(400,400))\n",
    "    h, s, v = img2[:,:,0], img2[:,:,1], img2[:,:,2]\n",
    "    hist_h = cv2.calcHist([h],[0],None,[256],[0,256])\n",
    "    return hist_h\n",
    "\n",
    "def kidoyoko_img(path):\n",
    "    img = cv2.imread(path)\n",
    "    img2 = cv2.cvtColor(img, cv2.COLOR_BGR2RGB)\n",
    "    #img2 = cv2.resize(img2,(400,400))\n",
    "    img3 = np.array(img2)\n",
    "    height,width,channels=img2.shape[:3]\n",
    "    luminanceList=[]\n",
    "    counter=0\n",
    "    r=1*img3[:, :, 0] + 0*img3[:, :, 1] + 0*img3[:, :, 2]\n",
    "    g=0*img3[:, :, 0] + 1*img3[:, :, 1] + 0*img3[:, :, 2]\n",
    "    b=0*img3[:, :, 0] + 0*img3[:, :, 1] + 1*img3[:, :, 2]\n",
    "    for i in range(width):\n",
    "        sumR=np.mean(r, axis=0)\n",
    "        sumG=np.mean(g, axis=0)\n",
    "        sumB=np.mean(b, axis=0)\n",
    "        luminance = ( 0.298912 * sumR[i] + 0.586611 * sumG[i] + 0.114478 * sumB[i] )\n",
    "        luminanceList.append(luminance)\n",
    "    luminanceList = np.round(luminanceList, 1) \n",
    "    return luminanceList\n",
    "\n",
    "def kidotate_img(path):\n",
    "    img = cv2.imread(path)\n",
    "    img2 = cv2.cvtColor(img, cv2.COLOR_BGR2RGB)\n",
    "    img3 = np.array(img2)\n",
    "    height,width,channels=img2.shape[:3]\n",
    "    luminanceList=[]\n",
    "    counter=0\n",
    "    r=1*img3[:, :, 0] + 0*img3[:, :, 1] + 0*img3[:, :, 2]\n",
    "    g=0*img3[:, :, 0] + 1*img3[:, :, 1] + 0*img3[:, :, 2]\n",
    "    b=0*img3[:, :, 0] + 0*img3[:, :, 1] + 1*img3[:, :, 2]\n",
    "    for i in range(height):\n",
    "        sumR=np.mean(r, axis=1)\n",
    "        sumG=np.mean(g, axis=1)\n",
    "        sumB=np.mean(b, axis=1)\n",
    "        luminance = ( 0.298912 * sumR[i] + 0.586611 * sumG[i] + 0.114478 * sumB[i] )\n",
    "        luminanceList.append(luminance)\n",
    "    luminanceList = np.round(luminanceList, 1) \n",
    "    return luminanceList\n",
    "\n",
    "def corr(a,b):\n",
    "    a = (a - np.mean(a)) / (np.std(a) * len(a))\n",
    "    b = (b - np.mean(b)) / (np.std(b))\n",
    "    c = np.correlate(a, b, 'full')\n",
    "    c_max = c.max()\n",
    "    return c_max"
   ]
  },
  {
   "cell_type": "code",
   "execution_count": 151,
   "metadata": {},
   "outputs": [
    {
     "ename": "SyntaxError",
     "evalue": "invalid syntax (<ipython-input-151-47c9c909da9d>, line 6)",
     "output_type": "error",
     "traceback": [
      "\u001b[0;36m  File \u001b[0;32m\"<ipython-input-151-47c9c909da9d>\"\u001b[0;36m, line \u001b[0;32m6\u001b[0m\n\u001b[0;31m    print(result1.)\u001b[0m\n\u001b[0m                  ^\u001b[0m\n\u001b[0;31mSyntaxError\u001b[0m\u001b[0;31m:\u001b[0m invalid syntax\n"
     ]
    }
   ],
   "source": [
    "with connection.cursor() as cursor:\n",
    "    # Read a single record\n",
    "    sql = \"SELECT name, date FROM userdata3 WHERE `id` = %s\"\n",
    "    cursor.execute(sql, ('2',))\n",
    "    result1,result2 = cursor.fetchone()\n",
    "    print(result1.)"
   ]
  },
  {
   "cell_type": "code",
   "execution_count": 152,
   "metadata": {},
   "outputs": [
    {
     "name": "stdout",
     "output_type": "stream",
     "text": [
      "1 20210921 10:25\n"
     ]
    }
   ],
   "source": [
    "import re\n",
    "path = '/home/ta1ty0/Search2021/Image/Register/1_20210921_10:25.png'\n",
    "name = os.path.splitext(os.path.basename(path))[0]\n",
    "place,date,time = re.split('_',name)\n",
    "print(place,date,time)"
   ]
  },
  {
   "cell_type": "code",
   "execution_count": 153,
   "metadata": {},
   "outputs": [],
   "source": [
    "heikin = heikin_img(path)\n",
    "saido = saido_img(path)\n",
    "kidoyoko = kidoyoko_img(path)\n",
    "kidotate = kidotate_img(path)\n"
   ]
  },
  {
   "cell_type": "code",
   "execution_count": 167,
   "metadata": {},
   "outputs": [
    {
     "ename": "NameError",
     "evalue": "name 'png' is not defined",
     "output_type": "error",
     "traceback": [
      "\u001b[0;31m---------------------------------------------------------------------------\u001b[0m",
      "\u001b[0;31mNameError\u001b[0m                                 Traceback (most recent call last)",
      "\u001b[0;32m<ipython-input-167-228b9980dd7b>\u001b[0m in \u001b[0;36m<module>\u001b[0;34m\u001b[0m\n\u001b[1;32m      6\u001b[0m     \u001b[0mS1\u001b[0m\u001b[0;34m,\u001b[0m\u001b[0mS2\u001b[0m\u001b[0;34m,\u001b[0m\u001b[0mS3\u001b[0m\u001b[0;34m,\u001b[0m\u001b[0mS4\u001b[0m \u001b[0;34m=\u001b[0m \u001b[0mcursor\u001b[0m\u001b[0;34m.\u001b[0m\u001b[0mfetchone\u001b[0m\u001b[0;34m(\u001b[0m\u001b[0;34m)\u001b[0m\u001b[0;34m\u001b[0m\u001b[0;34m\u001b[0m\u001b[0m\n\u001b[1;32m      7\u001b[0m     \u001b[0mS1\u001b[0m \u001b[0;34m=\u001b[0m \u001b[0mnp\u001b[0m\u001b[0;34m.\u001b[0m\u001b[0marray\u001b[0m\u001b[0;34m(\u001b[0m\u001b[0mS1\u001b[0m\u001b[0;34m)\u001b[0m\u001b[0;34m\u001b[0m\u001b[0;34m\u001b[0m\u001b[0m\n\u001b[0;32m----> 8\u001b[0;31m     \u001b[0mS1\u001b[0m \u001b[0;34m=\u001b[0m \u001b[0mbase64\u001b[0m\u001b[0;34m.\u001b[0m\u001b[0mb64encode\u001b[0m\u001b[0;34m(\u001b[0m\u001b[0mpng\u001b[0m\u001b[0;34m.\u001b[0m\u001b[0mtostring\u001b[0m\u001b[0;34m(\u001b[0m\u001b[0;34m)\u001b[0m\u001b[0;34m)\u001b[0m\u001b[0;34m\u001b[0m\u001b[0;34m\u001b[0m\u001b[0m\n\u001b[0m\u001b[1;32m      9\u001b[0m     \u001b[0mprint\u001b[0m\u001b[0;34m(\u001b[0m\u001b[0mheikin_hikaku\u001b[0m\u001b[0;34m(\u001b[0m\u001b[0mheikin\u001b[0m\u001b[0;34m,\u001b[0m\u001b[0mS1\u001b[0m\u001b[0;34m)\u001b[0m\u001b[0;34m)\u001b[0m\u001b[0;34m\u001b[0m\u001b[0;34m\u001b[0m\u001b[0m\n\u001b[1;32m     10\u001b[0m     \u001b[0mprint\u001b[0m\u001b[0;34m(\u001b[0m\u001b[0mcorr\u001b[0m\u001b[0;34m(\u001b[0m\u001b[0msaido\u001b[0m\u001b[0;34m,\u001b[0m\u001b[0mS2\u001b[0m\u001b[0;34m.\u001b[0m\u001b[0mdecode\u001b[0m\u001b[0;34m(\u001b[0m\u001b[0;34m'utf-8'\u001b[0m\u001b[0;34m)\u001b[0m\u001b[0;34m)\u001b[0m\u001b[0;34m)\u001b[0m\u001b[0;34m\u001b[0m\u001b[0;34m\u001b[0m\u001b[0m\n",
      "\u001b[0;31mNameError\u001b[0m: name 'png' is not defined"
     ]
    }
   ],
   "source": [
    "import base64\n",
    "with connection.cursor() as cursor:\n",
    "    # Read a single record\n",
    "    sql = \"SELECT clothHeikin, clothSaido, clothTateKido, clothTateKido FROM userdata3 WHERE `id` = %s\"\n",
    "    cursor.execute(sql, ('2',))\n",
    "    S1,S2,S3,S4 = cursor.fetchone()\n",
    "    S1 = np.array(S1)\n",
    "    S1 = base64.b64encode(.tostring())\n",
    "    print(heikin_hikaku(heikin,S1))\n",
    "    print(corr(saido,S2.decode('utf-8')))\n",
    "    print(corr(kidoyoko,S3.decode('utf-8')))\n",
    "    print(corr(kidotate,S4.decode('utf-8')))\n",
    "    \n",
    "    \n",
    "    "
   ]
  },
  {
   "cell_type": "code",
   "execution_count": null,
   "metadata": {},
   "outputs": [],
   "source": []
  }
 ],
 "metadata": {
  "kernelspec": {
   "display_name": "Python 3",
   "language": "python",
   "name": "python3"
  },
  "language_info": {
   "codemirror_mode": {
    "name": "ipython",
    "version": 3
   },
   "file_extension": ".py",
   "mimetype": "text/x-python",
   "name": "python",
   "nbconvert_exporter": "python",
   "pygments_lexer": "ipython3",
   "version": "3.8.5"
  }
 },
 "nbformat": 4,
 "nbformat_minor": 4
}
