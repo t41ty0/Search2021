{
 "cells": [
  {
   "cell_type": "raw",
   "metadata": {},
   "source": [
    "CREATE TABLE userdata (\n",
    "    id int(11) NOT NULL AUTO_INCREMENT,\n",
    "    name varchar(255) COLLATE utf8_bin NOT NULL,\n",
    "    date DATE,\n",
    "    clothHeikin MEDIUMBLOB,\n",
    "    clothSaido MEDIUMBLOB,\n",
    "    clothKido MEDIUMBLOB,\n",
    ");\n",
    "  \n",
    "CREATE TABLE timeTOlocation (\n",
    "    id int(11) NOT NULL AUTO_INCREMENT,\n",
    "    name(255) COLLATE utf8_bin NOT NULL,\n",
    "    place(255) COLLATE utf8_bin,\n",
    "    time(255) COLLATE utf8_bin,\n",
    "   (id)\n",
    ") ENGINE=InnoDB DEFAULT CHARSET=utf8 COLLATE=utf8_bin\n",
    "AUTO_INCREMENT=1 ;\n",
    "\n",
    "#データベース作成の流れ\n",
    "# CREATE DATABASE names;\n",
    "# SHOW DATABASES;\n",
    "# USE names;\n",
    "# CREATE TABLE users (id INT, name , )\n",
    "#\n",
    "# SHOW TABLES;"
   ]
  },
  {
   "cell_type": "code",
   "execution_count": 41,
   "metadata": {},
   "outputs": [],
   "source": [
    "import pymysql.cursors\n",
    "\n",
    "connection = pymysql.connect(host='localhost',\n",
    "                             user='tatelab1',\n",
    "                             password='tatelab1',\n",
    "                             db='names',\n",
    "                             charset='utf8',\n",
    "                             # 結果の受け取り方の指定。Dict形式で結果を受け取ることができる\n",
    "                             cursorclass=pymysql.cursors.DictCursor)"
   ]
  },
  {
   "cell_type": "code",
   "execution_count": 42,
   "metadata": {},
   "outputs": [],
   "source": [
    "with connection.cursor() as cursor:\n",
    "    sql = \"INSERT INTO users (name) VALUES (%s)\"\n",
    "    cursor.execute(sql, ('hasegawa'))\n",
    "\n",
    "connection.commit() #データをいじったあとはこれで確定する"
   ]
  },
  {
   "cell_type": "code",
   "execution_count": 47,
   "metadata": {},
   "outputs": [
    {
     "name": "stdout",
     "output_type": "stream",
     "text": [
      "{'name': 'hasegawa'}\n"
     ]
    }
   ],
   "source": [
    "with connection.cursor() as cursor:\n",
    "    # Read a single record\n",
    "    sql = \"SELECT name  FROM `users` WHERE `id` = %s\"\n",
    "    cursor.execute(sql, ('1',))\n",
    "    result = cursor.fetchone()\n",
    "    print(result)"
   ]
  },
  {
   "cell_type": "code",
   "execution_count": null,
   "metadata": {},
   "outputs": [],
   "source": []
  }
 ],
 "metadata": {
  "kernelspec": {
   "display_name": "Python 3",
   "language": "python",
   "name": "python3"
  },
  "language_info": {
   "codemirror_mode": {
    "name": "ipython",
    "version": 3
   },
   "file_extension": ".py",
   "mimetype": "text/x-python",
   "name": "python",
   "nbconvert_exporter": "python",
   "pygments_lexer": "ipython3",
   "version": "3.8.5"
  }
 },
 "nbformat": 4,
 "nbformat_minor": 4
}
