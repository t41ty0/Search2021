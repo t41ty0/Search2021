{
 "cells": [
  {
   "cell_type": "raw",
   "metadata": {},
   "source": [
    "CREATE TABLE userdata (\n",
    "    id int(11) NOT NULL AUTO_INCREMENT,\n",
    "    name varchar(255) COLLATE utf8_bin NOT NULL,\n",
    "    date int(8),\n",
    "    clothHeikin MEDIUMBLOB,\n",
    "    clothSaido MEDIUMBLOB,\n",
    "    clothKido MEDIUMBLOB,\n",
    "    PRIMARY KEY (id)\n",
    ");\n",
    "  \n",
    "CREATE TABLE timeTOlocation (\n",
    "    name varchar(255) COLLATE utf8_bin NOT NULL,\n",
    "    time varchar(255) COLLATE utf8_bin NOT NULL,\n",
    "    place varchar(255) COLLATE utf8_bin\n",
    ");\n",
    "\n",
    "#データベース作成の流れ\n",
    "# CREATE DATABASE names;\n",
    "# SHOW DATABASES;\n",
    "# USE names;\n",
    "# CREATE TABLE users (id INT, name , )\n",
    "#\n",
    "# SHOW TABLES;"
   ]
  },
  {
   "cell_type": "code",
   "execution_count": 121,
   "metadata": {},
   "outputs": [],
   "source": [
    "import pymysql.cursors\n",
    "import datetime\n",
    "\n",
    "connection = pymysql.connect(host='localhost',\n",
    "                             user='tatelab1',\n",
    "                             password='tatelab1',\n",
    "                             db='names',\n",
    "                             charset='utf8',\n",
    "                             # 結果の受け取り方の指定。Dict形式で結果を受け取ることができる\n",
    "                             cursorclass=pymysql.cursors.DictCursor)"
   ]
  },
  {
   "cell_type": "code",
   "execution_count": 122,
   "metadata": {},
   "outputs": [],
   "source": [
    "with connection.cursor() as cursor:\n",
    "    sql = \"INSERT INTO userdata (name,date) VALUES (%s, %s)\"\n",
    "    cursor.execute(sql, ('hasegawa', str(datetime.date.today().strftime('%Y%m%d'))))\n",
    "\n",
    "connection.commit() #データをいじったあとはこれで確定する"
   ]
  },
  {
   "cell_type": "code",
   "execution_count": 123,
   "metadata": {},
   "outputs": [
    {
     "name": "stdout",
     "output_type": "stream",
     "text": [
      "{'name': 'hasegawa', 'date': 20210920}\n"
     ]
    }
   ],
   "source": [
    "with connection.cursor() as cursor:\n",
    "    # Read a single record\n",
    "    sql = \"SELECT name, date FROM userdata WHERE `id` = %s\"\n",
    "    cursor.execute(sql, ('1',))\n",
    "    result = cursor.fetchone()\n",
    "    print(result)"
   ]
  },
  {
   "cell_type": "code",
   "execution_count": null,
   "metadata": {},
   "outputs": [],
   "source": []
  }
 ],
 "metadata": {
  "kernelspec": {
   "display_name": "Python 3",
   "language": "python",
   "name": "python3"
  },
  "language_info": {
   "codemirror_mode": {
    "name": "ipython",
    "version": 3
   },
   "file_extension": ".py",
   "mimetype": "text/x-python",
   "name": "python",
   "nbconvert_exporter": "python",
   "pygments_lexer": "ipython3",
   "version": "3.8.5"
  }
 },
 "nbformat": 4,
 "nbformat_minor": 4
}
