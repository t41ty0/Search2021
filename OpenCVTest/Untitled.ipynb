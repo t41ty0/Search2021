{
 "cells": [
  {
   "cell_type": "code",
   "execution_count": 1,
   "metadata": {},
   "outputs": [
    {
     "name": "stdout",
     "output_type": "stream",
     "text": [
      "139\n",
      "123\n",
      "105\n",
      "89\n",
      "78\n",
      "67\n",
      "62\n",
      "58\n",
      "55\n",
      "53\n",
      "51\n",
      "46\n",
      "42\n",
      "39\n",
      "37\n",
      "39\n",
      "42\n",
      "44\n",
      "46\n",
      "49\n",
      "51\n",
      "53\n",
      "55\n",
      "58\n",
      "60\n",
      "62\n",
      "64\n",
      "67\n",
      "69\n"
     ]
    }
   ],
   "source": [
    "import cv2\n",
    "def printing(position):\n",
    "    print(position)\n",
    "\n",
    "img = cv2.imread(\"Mandrill.png\", 0)\n",
    "cv2.namedWindow(\"window\")\n",
    "threshold = 150\n",
    "cv2.createTrackbar(\"trackber\", \"window\", threshold, 255, printing)\n",
    "while True:\n",
    "    ret, th = cv2.threshold(img, threshold, 255, cv2.THRESH_BINARY)\n",
    "    threshold = cv2.getTrackbarPos(\"trackber\", \"window\")\n",
    "    cv2.imshow('window', th)\n",
    "    #27=esc\n",
    "    if cv2.waitKey(10) == 27:\n",
    "        break\n",
    "cv2.destroyAllWindows()"
   ]
  },
  {
   "cell_type": "code",
   "execution_count": 16,
   "metadata": {},
   "outputs": [
    {
     "data": {
      "image/png": "[encoded data removed]",
      "text/plain": [
       "<Figure size 432x288 with 1 Axes>"
      ]
     },
     "metadata": {
      "needs_background": "light"
     },
     "output_type": "display_data"
    }
   ],
   "source": [
    "import cv2\n",
    "import numpy as np\n",
    "from matplotlib import pyplot as plt\n",
    "\n",
    "img = cv2.imread('Mandrill.png',0)\n",
    "hist = cv2.calcHist([img],[0],None,[100],[0,256])\n",
    "plt.plot(hist)\n",
    "plt.xlim([0,256])\n",
    "plt.show()"
   ]
  },
  {
   "cell_type": "code",
   "execution_count": 6,
   "metadata": {},
   "outputs": [
    {
     "data": {
      "text/plain": [
       "True"
      ]
     },
     "execution_count": 6,
     "metadata": {},
     "output_type": "execute_result"
    }
   ],
   "source": [
    "import cv2\n",
    "img = cv2.imread('Mandrill.bmp')\n",
    "boxfilter = cv2.blur(img,(3,3))\n",
    "\n",
    "cv2.imwrite('MandrillFilter.bmp',boxfilter)"
   ]
  },
  {
   "cell_type": "code",
   "execution_count": 5,
   "metadata": {},
   "outputs": [
    {
     "data": {
      "text/plain": [
       "True"
      ]
     },
     "execution_count": 5,
     "metadata": {},
     "output_type": "execute_result"
    }
   ],
   "source": [
    "import cv2\n",
    "\n",
    "img = cv2.imread('Mandrill.bmp')\n",
    "lap = cv2.Laplacian(img, cv2.CV_32F, ksize=3)\n",
    "gray = cv2.cvtColor(img, cv2.COLOR_RGB2GRAY)\n",
    "lapgray = cv2.Laplacian(gray, cv2.CV_32F, ksize=3)\n",
    "cv2.imwrite('MandrillLaplacian.bmp',lap)\n",
    "cv2.imwrite('MandrillLaplaciangray.bmp',lapgray)"
   ]
  },
  {
   "cell_type": "code",
   "execution_count": null,
   "metadata": {},
   "outputs": [],
   "source": []
  }
 ],
 "metadata": {
  "kernelspec": {
   "display_name": "Python 3",
   "language": "python",
   "name": "python3"
  },
  "language_info": {
   "codemirror_mode": {
    "name": "ipython",
    "version": 3
   },
   "file_extension": ".py",
   "mimetype": "text/x-python",
   "name": "python",
   "nbconvert_exporter": "python",
   "pygments_lexer": "ipython3",
   "version": "3.8.5"
  }
 },
 "nbformat": 4,
 "nbformat_minor": 4
}
